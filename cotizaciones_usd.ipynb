{
 "cells": [
  {
   "cell_type": "code",
   "execution_count": 2,
   "metadata": {},
   "outputs": [],
   "source": [
    "import requests\n",
    "import pandas as pd\n",
    "from datetime import datetime, timedelta\n",
    "from dotenv import load_dotenv\n",
    "import os"
   ]
  },
  {
   "cell_type": "markdown",
   "metadata": {},
   "source": [
    "### API BCRA: Cotización Dólar Oficial"
   ]
  },
  {
   "cell_type": "code",
   "execution_count": 3,
   "metadata": {},
   "outputs": [],
   "source": [
    "load_dotenv()\n",
    "tokenBCRA = os.getenv(\"tokenBCRA\") # Es necesario generar un token de acceso\n",
    "urlBCRA = 'https://api.estadisticasbcra.com/usd_of'"
   ]
  },
  {
   "cell_type": "code",
   "execution_count": 6,
   "metadata": {},
   "outputs": [
    {
     "data": {
      "text/html": [
       "<div>\n",
       "<style scoped>\n",
       "    .dataframe tbody tr th:only-of-type {\n",
       "        vertical-align: middle;\n",
       "    }\n",
       "\n",
       "    .dataframe tbody tr th {\n",
       "        vertical-align: top;\n",
       "    }\n",
       "\n",
       "    .dataframe thead th {\n",
       "        text-align: right;\n",
       "    }\n",
       "</style>\n",
       "<table border=\"1\" class=\"dataframe\">\n",
       "  <thead>\n",
       "    <tr style=\"text-align: right;\">\n",
       "      <th></th>\n",
       "      <th>Fecha</th>\n",
       "      <th>Cotizacion</th>\n",
       "    </tr>\n",
       "  </thead>\n",
       "  <tbody>\n",
       "    <tr>\n",
       "      <th>5348</th>\n",
       "      <td>2023-12-15</td>\n",
       "      <td>801.08</td>\n",
       "    </tr>\n",
       "    <tr>\n",
       "      <th>5347</th>\n",
       "      <td>2023-12-14</td>\n",
       "      <td>800.53</td>\n",
       "    </tr>\n",
       "    <tr>\n",
       "      <th>5346</th>\n",
       "      <td>2023-12-13</td>\n",
       "      <td>799.98</td>\n",
       "    </tr>\n",
       "    <tr>\n",
       "      <th>5345</th>\n",
       "      <td>2023-12-12</td>\n",
       "      <td>366.50</td>\n",
       "    </tr>\n",
       "    <tr>\n",
       "      <th>5344</th>\n",
       "      <td>2023-12-11</td>\n",
       "      <td>366.00</td>\n",
       "    </tr>\n",
       "  </tbody>\n",
       "</table>\n",
       "</div>"
      ],
      "text/plain": [
       "           Fecha  Cotizacion\n",
       "5348  2023-12-15      801.08\n",
       "5347  2023-12-14      800.53\n",
       "5346  2023-12-13      799.98\n",
       "5345  2023-12-12      366.50\n",
       "5344  2023-12-11      366.00"
      ]
     },
     "execution_count": 6,
     "metadata": {},
     "output_type": "execute_result"
    }
   ],
   "source": [
    "r = requests.get(urlBCRA, headers={\n",
    "        'Authorization': f'BEARER {tokenBCRA}'\n",
    "})\n",
    "\n",
    "dolar_oficial = r.json()\n",
    "\n",
    "cotizacion_bcra = (pd.DataFrame(dolar_oficial)\n",
    "                    .rename(columns={'d':'Fecha', 'v':'Cotizacion'})\n",
    "                    .sort_values(by='Fecha', ascending=False))\n",
    "cotizacion_bcra.head()"
   ]
  },
  {
   "cell_type": "markdown",
   "metadata": {},
   "source": [
    "### Dólar API"
   ]
  },
  {
   "cell_type": "code",
   "execution_count": 7,
   "metadata": {},
   "outputs": [],
   "source": [
    "url = 'https://dolarapi.com/v1/dolares'\n",
    "r = requests.get(url)\n",
    "data = r.json()\n",
    "\n",
    "cotizaciones = []\n",
    "for i in range(0, len(data)):\n",
    "    cotizaciones.append([\n",
    "        data[i]['nombre'],\n",
    "        data[i]['compra'],\n",
    "        data[i]['venta'],\n",
    "        datetime.strptime(data[i]['fechaActualizacion'],\"%Y-%m-%dT%H:%M:%S.%fZ\")+ timedelta(hours=-3)\n",
    "    ])\n",
    "\n",
    "cotizaciones_dolar = pd.DataFrame(cotizaciones, columns=['tipo_dolar', 'compra', 'venta', 'fecha'])"
   ]
  },
  {
   "cell_type": "code",
   "execution_count": 8,
   "metadata": {},
   "outputs": [
    {
     "data": {
      "text/html": [
       "<div>\n",
       "<style scoped>\n",
       "    .dataframe tbody tr th:only-of-type {\n",
       "        vertical-align: middle;\n",
       "    }\n",
       "\n",
       "    .dataframe tbody tr th {\n",
       "        vertical-align: top;\n",
       "    }\n",
       "\n",
       "    .dataframe thead th {\n",
       "        text-align: right;\n",
       "    }\n",
       "</style>\n",
       "<table border=\"1\" class=\"dataframe\">\n",
       "  <thead>\n",
       "    <tr style=\"text-align: right;\">\n",
       "      <th></th>\n",
       "      <th>tipo_dolar</th>\n",
       "      <th>compra</th>\n",
       "      <th>venta</th>\n",
       "      <th>fecha</th>\n",
       "    </tr>\n",
       "  </thead>\n",
       "  <tbody>\n",
       "    <tr>\n",
       "      <th>0</th>\n",
       "      <td>Oficial</td>\n",
       "      <td>781.00</td>\n",
       "      <td>821.00</td>\n",
       "      <td>2023-12-17 17:52:00</td>\n",
       "    </tr>\n",
       "    <tr>\n",
       "      <th>1</th>\n",
       "      <td>Blue</td>\n",
       "      <td>940.00</td>\n",
       "      <td>970.00</td>\n",
       "      <td>2023-12-17 17:52:00</td>\n",
       "    </tr>\n",
       "    <tr>\n",
       "      <th>2</th>\n",
       "      <td>Bolsa</td>\n",
       "      <td>994.46</td>\n",
       "      <td>1002.40</td>\n",
       "      <td>2023-12-17 17:52:00</td>\n",
       "    </tr>\n",
       "    <tr>\n",
       "      <th>3</th>\n",
       "      <td>Contado con liquidación</td>\n",
       "      <td>971.59</td>\n",
       "      <td>985.78</td>\n",
       "      <td>2023-12-17 17:52:00</td>\n",
       "    </tr>\n",
       "    <tr>\n",
       "      <th>4</th>\n",
       "      <td>Mayorista</td>\n",
       "      <td>365.45</td>\n",
       "      <td>366.45</td>\n",
       "      <td>2023-12-17 17:52:00</td>\n",
       "    </tr>\n",
       "    <tr>\n",
       "      <th>5</th>\n",
       "      <td>Cripto</td>\n",
       "      <td>964.00</td>\n",
       "      <td>988.00</td>\n",
       "      <td>2023-12-17 17:52:00</td>\n",
       "    </tr>\n",
       "    <tr>\n",
       "      <th>6</th>\n",
       "      <td>Tarjeta</td>\n",
       "      <td>1249.60</td>\n",
       "      <td>1313.60</td>\n",
       "      <td>2023-12-17 17:52:00</td>\n",
       "    </tr>\n",
       "  </tbody>\n",
       "</table>\n",
       "</div>"
      ],
      "text/plain": [
       "                tipo_dolar   compra    venta               fecha\n",
       "0                  Oficial   781.00   821.00 2023-12-17 17:52:00\n",
       "1                     Blue   940.00   970.00 2023-12-17 17:52:00\n",
       "2                    Bolsa   994.46  1002.40 2023-12-17 17:52:00\n",
       "3  Contado con liquidación   971.59   985.78 2023-12-17 17:52:00\n",
       "4                Mayorista   365.45   366.45 2023-12-17 17:52:00\n",
       "5                   Cripto   964.00   988.00 2023-12-17 17:52:00\n",
       "6                  Tarjeta  1249.60  1313.60 2023-12-17 17:52:00"
      ]
     },
     "execution_count": 8,
     "metadata": {},
     "output_type": "execute_result"
    }
   ],
   "source": [
    "cotizaciones_dolar"
   ]
  }
 ],
 "metadata": {
  "kernelspec": {
   "display_name": "data-env",
   "language": "python",
   "name": "python3"
  },
  "language_info": {
   "codemirror_mode": {
    "name": "ipython",
    "version": 3
   },
   "file_extension": ".py",
   "mimetype": "text/x-python",
   "name": "python",
   "nbconvert_exporter": "python",
   "pygments_lexer": "ipython3",
   "version": "3.11.1"
  }
 },
 "nbformat": 4,
 "nbformat_minor": 2
}
