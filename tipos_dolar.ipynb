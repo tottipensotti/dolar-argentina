{
 "cells": [
  {
   "cell_type": "code",
   "execution_count": 1,
   "metadata": {},
   "outputs": [],
   "source": [
    "import requests\n",
    "import pandas as pd\n",
    "from datetime import datetime, timedelta"
   ]
  },
  {
   "cell_type": "code",
   "execution_count": 2,
   "metadata": {},
   "outputs": [],
   "source": [
    "url = 'https://dolarapi.com/v1/dolares'\n",
    "r = requests.get(url)\n",
    "data = r.json()"
   ]
  },
  {
   "cell_type": "code",
   "execution_count": 3,
   "metadata": {},
   "outputs": [],
   "source": [
    "cotizaciones = []\n",
    "for i in range(0, len(data)):\n",
    "  cotizaciones.append([\n",
    "      data[i]['nombre'],\n",
    "      data[i]['compra'],\n",
    "      data[i]['venta'],\n",
    "      datetime.strptime(data[i]['fechaActualizacion'],\"%Y-%m-%dT%H:%M:%S.%fZ\")+ timedelta(hours=-3)\n",
    "  ])\n",
    "\n",
    "cotizaciones_df = pd.DataFrame(cotizaciones, columns=['tipo_dolar', 'compra', 'venta', 'fecha'])"
   ]
  },
  {
   "cell_type": "code",
   "execution_count": 4,
   "metadata": {},
   "outputs": [
    {
     "data": {
      "text/html": [
       "<div>\n",
       "<style scoped>\n",
       "    .dataframe tbody tr th:only-of-type {\n",
       "        vertical-align: middle;\n",
       "    }\n",
       "\n",
       "    .dataframe tbody tr th {\n",
       "        vertical-align: top;\n",
       "    }\n",
       "\n",
       "    .dataframe thead th {\n",
       "        text-align: right;\n",
       "    }\n",
       "</style>\n",
       "<table border=\"1\" class=\"dataframe\">\n",
       "  <thead>\n",
       "    <tr style=\"text-align: right;\">\n",
       "      <th></th>\n",
       "      <th>tipo_dolar</th>\n",
       "      <th>compra</th>\n",
       "      <th>venta</th>\n",
       "      <th>fecha</th>\n",
       "    </tr>\n",
       "  </thead>\n",
       "  <tbody>\n",
       "    <tr>\n",
       "      <th>0</th>\n",
       "      <td>Oficial</td>\n",
       "      <td>781.00</td>\n",
       "      <td>821.00</td>\n",
       "      <td>2023-12-17 17:52:00</td>\n",
       "    </tr>\n",
       "    <tr>\n",
       "      <th>1</th>\n",
       "      <td>Blue</td>\n",
       "      <td>940.00</td>\n",
       "      <td>970.00</td>\n",
       "      <td>2023-12-17 17:52:00</td>\n",
       "    </tr>\n",
       "    <tr>\n",
       "      <th>2</th>\n",
       "      <td>Bolsa</td>\n",
       "      <td>994.46</td>\n",
       "      <td>1002.40</td>\n",
       "      <td>2023-12-17 17:52:00</td>\n",
       "    </tr>\n",
       "    <tr>\n",
       "      <th>3</th>\n",
       "      <td>Contado con liquidación</td>\n",
       "      <td>971.59</td>\n",
       "      <td>985.78</td>\n",
       "      <td>2023-12-17 17:52:00</td>\n",
       "    </tr>\n",
       "    <tr>\n",
       "      <th>4</th>\n",
       "      <td>Mayorista</td>\n",
       "      <td>365.45</td>\n",
       "      <td>366.45</td>\n",
       "      <td>2023-12-17 17:52:00</td>\n",
       "    </tr>\n",
       "    <tr>\n",
       "      <th>5</th>\n",
       "      <td>Cripto</td>\n",
       "      <td>964.00</td>\n",
       "      <td>988.00</td>\n",
       "      <td>2023-12-17 17:52:00</td>\n",
       "    </tr>\n",
       "    <tr>\n",
       "      <th>6</th>\n",
       "      <td>Tarjeta</td>\n",
       "      <td>1249.60</td>\n",
       "      <td>1313.60</td>\n",
       "      <td>2023-12-17 17:52:00</td>\n",
       "    </tr>\n",
       "  </tbody>\n",
       "</table>\n",
       "</div>"
      ],
      "text/plain": [
       "                tipo_dolar   compra    venta               fecha\n",
       "0                  Oficial   781.00   821.00 2023-12-17 17:52:00\n",
       "1                     Blue   940.00   970.00 2023-12-17 17:52:00\n",
       "2                    Bolsa   994.46  1002.40 2023-12-17 17:52:00\n",
       "3  Contado con liquidación   971.59   985.78 2023-12-17 17:52:00\n",
       "4                Mayorista   365.45   366.45 2023-12-17 17:52:00\n",
       "5                   Cripto   964.00   988.00 2023-12-17 17:52:00\n",
       "6                  Tarjeta  1249.60  1313.60 2023-12-17 17:52:00"
      ]
     },
     "execution_count": 4,
     "metadata": {},
     "output_type": "execute_result"
    }
   ],
   "source": [
    "cotizaciones_df"
   ]
  },
  {
   "cell_type": "code",
   "execution_count": null,
   "metadata": {},
   "outputs": [],
   "source": []
  }
 ],
 "metadata": {
  "kernelspec": {
   "display_name": "data-env",
   "language": "python",
   "name": "python3"
  },
  "language_info": {
   "codemirror_mode": {
    "name": "ipython",
    "version": 3
   },
   "file_extension": ".py",
   "mimetype": "text/x-python",
   "name": "python",
   "nbconvert_exporter": "python",
   "pygments_lexer": "ipython3",
   "version": "3.11.1"
  }
 },
 "nbformat": 4,
 "nbformat_minor": 2
}
